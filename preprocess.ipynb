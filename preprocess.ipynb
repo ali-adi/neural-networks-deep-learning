{
 "cells": [
  {
   "cell_type": "code",
   "execution_count": 1,
   "id": "b72f3a3d-bad0-4c09-a3fd-d9e648535c18",
   "metadata": {},
   "outputs": [],
   "source": [
    "import os\n",
    "import shutil\n",
    "\n",
    "# Define the mapping from the sixth character of the filename to the desired label\n",
    "emotion_map = {\n",
    "    'W': 'angry',    # e.g., Wut\n",
    "    'L': 'boredom',  # e.g., Langeweile\n",
    "    'E': 'disgust',  # e.g., Ekel\n",
    "    'A': 'fear',     # e.g., Angst\n",
    "    'F': 'happy',    # e.g., Freude\n",
    "    'T': 'sad',      # e.g., Trauer\n",
    "    'N': 'neutral'   # neutral\n",
    "}\n",
    "\n",
    "# Define your source directory (where the .wav files are currently stored)\n",
    "source_dir = '/Users/ali/root/University/Y4S2/SC4001/Assignment-2/raw-data/EMODB'\n",
    "\n",
    "# Define the destination directory where you want the reorganized dataset to reside\n",
    "dest_dir = '/Users/ali/root/University/Y4S2/SC4001/Assignment-2/clean data/EMODB'\n",
    "\n",
    "# Create subdirectories for each emotion label if they don't exist\n",
    "for label in set(emotion_map.values()):\n",
    "    os.makedirs(os.path.join(dest_dir, label), exist_ok=True)\n",
    "\n",
    "# Iterate over each file in the source directory\n",
    "for filename in os.listdir(source_dir):\n",
    "    if filename.endswith('.wav'):\n",
    "        # Extract the emotion code: 6th character (index 5) from the filename\n",
    "        emotion_code = filename[5].upper()  # Ensure it's uppercase\n",
    "        label = emotion_map.get(emotion_code, None)\n",
    "        if label is not None:\n",
    "            src_path = os.path.join(source_dir, filename)\n",
    "            dst_path = os.path.join(dest_dir, label, filename)\n",
    "            # Copy the file to the appropriate directory\n",
    "            shutil.copy(src_path, dst_path)\n",
    "        else:\n",
    "            print(f\"Unknown emotion code in file {filename}\")"
   ]
  },
  {
   "cell_type": "code",
   "execution_count": null,
   "id": "95586a57-f058-4ee2-a31e-8ef03ea7a0d4",
   "metadata": {},
   "outputs": [],
   "source": []
  }
 ],
 "metadata": {
  "kernelspec": {
   "display_name": "Python 3 (ipykernel)",
   "language": "python",
   "name": "python3"
  },
  "language_info": {
   "codemirror_mode": {
    "name": "ipython",
    "version": 3
   },
   "file_extension": ".py",
   "mimetype": "text/x-python",
   "name": "python",
   "nbconvert_exporter": "python",
   "pygments_lexer": "ipython3",
   "version": "3.8.20"
  }
 },
 "nbformat": 4,
 "nbformat_minor": 5
}
